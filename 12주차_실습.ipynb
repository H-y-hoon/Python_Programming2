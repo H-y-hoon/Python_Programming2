{
  "nbformat": 4,
  "nbformat_minor": 0,
  "metadata": {
    "colab": {
      "provenance": [],
      "authorship_tag": "ABX9TyPWcfhshBMXYag3uKlr2Yid",
      "include_colab_link": true
    },
    "kernelspec": {
      "name": "python3",
      "display_name": "Python 3"
    },
    "language_info": {
      "name": "python"
    }
  },
  "cells": [
    {
      "cell_type": "markdown",
      "metadata": {
        "id": "view-in-github",
        "colab_type": "text"
      },
      "source": [
        "<a href=\"https://colab.research.google.com/github/H-y-hoon/Python-Programming2/blob/main/12%EC%A3%BC%EC%B0%A8_%EC%8B%A4%EC%8A%B5.ipynb\" target=\"_parent\"><img src=\"https://colab.research.google.com/assets/colab-badge.svg\" alt=\"Open In Colab\"/></a>"
      ]
    },
    {
      "cell_type": "code",
      "execution_count": null,
      "metadata": {
        "colab": {
          "base_uri": "https://localhost:8080/"
        },
        "id": "Ds7AAoGk7icj",
        "outputId": "d47f9219-ecd1-44ac-c4cb-ebc0561eb35e"
      },
      "outputs": [
        {
          "output_type": "execute_result",
          "data": {
            "text/plain": [
              "['A', 'B', 'C', 'D', 'E', 'F', 'G', 'H']"
            ]
          },
          "metadata": {},
          "execution_count": 3
        }
      ],
      "source": [
        "#366\n",
        "#matrix . lincked list\n",
        "\n",
        "v= list('ABCDEFGH')\n",
        "v"
      ]
    },
    {
      "cell_type": "code",
      "source": [
        "adj = [[0,1,1,0,0,0,0,0],\n",
        "       [1,0,0,1,0,0,0,0],\n",
        "       [1,0,0,1,1,0,0,0],\n",
        "       [0,1,1,0,0,1,0,0],\n",
        "       [0,0,1,0,0,0,1,1],\n",
        "       [0,0,0,1,0,0,0,0],\n",
        "       [0,0,0,0,1,0,0,1],\n",
        "       [0,0,0,0,1,0,1,0],\n",
        "       ]"
      ],
      "metadata": {
        "id": "KuwgRPbM73sA"
      },
      "execution_count": null,
      "outputs": []
    },
    {
      "cell_type": "code",
      "source": [
        "adj"
      ],
      "metadata": {
        "colab": {
          "base_uri": "https://localhost:8080/"
        },
        "id": "KKmbgSFi8u61",
        "outputId": "1cb4f7eb-7281-4b62-cbf9-084c83253325"
      },
      "execution_count": null,
      "outputs": [
        {
          "output_type": "execute_result",
          "data": {
            "text/plain": [
              "[[0, 1, 1, 0, 0, 0, 0, 0],\n",
              " [1, 0, 0, 1, 0, 0, 0, 0],\n",
              " [1, 0, 0, 1, 1, 0, 0, 0],\n",
              " [0, 1, 1, 0, 0, 1, 0, 0],\n",
              " [0, 0, 1, 0, 0, 0, 1, 1],\n",
              " [0, 0, 0, 1, 0, 0, 0, 0],\n",
              " [0, 0, 0, 0, 1, 0, 0, 1],\n",
              " [0, 0, 0, 0, 1, 0, 1, 0]]"
            ]
          },
          "metadata": {},
          "execution_count": 5
        }
      ]
    },
    {
      "cell_type": "code",
      "source": [
        "#371\n",
        "mygraph = {'A' : {'B', 'C'},\n",
        "           'B' : {'A', 'D'},\n",
        "           'C' : {'A', 'D', 'E'},\n",
        "           'D' : {'B', 'C' ,'F'},\n",
        "           'E' : {'C', 'G', 'H'},\n",
        "           'F' : {'D'},\n",
        "           'G' : {'E', 'H'},\n",
        "           'H' : {'E', 'G'}}"
      ],
      "metadata": {
        "id": "0mutMiqZ8vwh"
      },
      "execution_count": null,
      "outputs": []
    },
    {
      "cell_type": "code",
      "source": [
        "def dfs(graph, start, visited = set()):\n",
        "  if start not in visited:\n",
        "    visited.add(start)\n",
        "    print(start, end='')\n",
        "    abr = graph[start] - visited\n",
        "    if len(abr) >0:\n",
        "      abr = sorted(list(abr))\n",
        "    for v in abr:\n",
        "      dfs(graph, v, visited)"
      ],
      "metadata": {
        "id": "mAN8cGEp9MZO"
      },
      "execution_count": null,
      "outputs": []
    },
    {
      "cell_type": "code",
      "source": [
        "dfs(mygraph, 'A')"
      ],
      "metadata": {
        "colab": {
          "base_uri": "https://localhost:8080/"
        },
        "id": "MdEPMOJu-Nd_",
        "outputId": "89732512-2161-470a-b641-c8dd26b6792d"
      },
      "execution_count": null,
      "outputs": [
        {
          "output_type": "stream",
          "name": "stdout",
          "text": [
            "ABDCEGHF"
          ]
        }
      ]
    },
    {
      "cell_type": "code",
      "source": [
        "#너비우선탐색\n",
        "import collections as col"
      ],
      "metadata": {
        "id": "5jfiYBhL-Qx8"
      },
      "execution_count": null,
      "outputs": []
    },
    {
      "cell_type": "code",
      "source": [
        "def bfs(graph, start):\n",
        "  visited = set([start])\n",
        "  queue = col.deque([start])\n",
        "  while queue:           #큐에 뭐가 남아있으면 이라는 뜻 ==> 방문할 곳이 있다!!\n",
        "    vertex = queue.popleft()   #deque\n",
        "    print(vertex, end='')\n",
        "    abr = graph[vertex] - visited\n",
        "    for v in abr:\n",
        "      visited.add(v)\n",
        "      queue.append(v)"
      ],
      "metadata": {
        "id": "lcBFEu5W-gw6"
      },
      "execution_count": null,
      "outputs": []
    },
    {
      "cell_type": "code",
      "source": [
        "bfs(mygraph, 'A')"
      ],
      "metadata": {
        "colab": {
          "base_uri": "https://localhost:8080/"
        },
        "id": "pMvg09h9_NOm",
        "outputId": "2dfb477f-fd16-4042-d3d2-196e2f5c373c"
      },
      "execution_count": null,
      "outputs": [
        {
          "output_type": "stream",
          "name": "stdout",
          "text": [
            "ABCDEFHG"
          ]
        }
      ]
    },
    {
      "cell_type": "code",
      "source": [
        "#연결성분넘어감"
      ],
      "metadata": {
        "id": "OBocrRuz_e9I"
      },
      "execution_count": null,
      "outputs": []
    },
    {
      "cell_type": "code",
      "source": [
        "#spanning tree\n",
        "def bfsST(graph, start):\n",
        "  visited = set([start])\n",
        "  queue = col.deque([start])\n",
        "\n",
        "  while queue:       \n",
        "    v = queue.popleft()   #deque\n",
        "    abr = graph[v] - visited\n",
        "\n",
        "    for u in abr:\n",
        "      #print('(', v, ',', u, ')', end='')\n",
        "      print(f'({v}, {u})', end='')  #F string으로 표현해서 더 깔끔한 코드\n",
        "      \n",
        "      visited.add(u)\n",
        "      queue.append(u) "
      ],
      "metadata": {
        "id": "Cp3pFY7M_mB3"
      },
      "execution_count": null,
      "outputs": []
    },
    {
      "cell_type": "code",
      "source": [
        "bfsST(mygraph, 'A')"
      ],
      "metadata": {
        "colab": {
          "base_uri": "https://localhost:8080/"
        },
        "id": "8L8Y13i1_6aG",
        "outputId": "f6c86474-df9d-4488-8635-09f11e2f864c"
      },
      "execution_count": null,
      "outputs": [
        {
          "output_type": "stream",
          "name": "stdout",
          "text": [
            "( A , B )( A , C )( B , D )( C , E )( D , F )( E , H )( E , G )"
          ]
        }
      ]
    },
    {
      "cell_type": "code",
      "source": [
        "#위상정렬\n",
        "def t_sort(vertex, graph):\n",
        "  n = len(vertex)\n",
        "  inDeg = [0]*n  #0으로된 리스트 추출\n",
        "\n",
        "  for i in range(n):\n",
        "    for j in range(n):\n",
        "      if graph[i][j] > 0:\n",
        "        inDeg[i] += 1\n",
        "\n",
        "  vlist = []\n",
        "  for i in range(n):\n",
        "    if inDeg[i] == 0:\n",
        "      vlist.append(i)\n",
        "\n",
        "  while len(vlist) > 0:\n",
        "    v = vlist.pop()\n",
        "    print(vertex[v], end='')\n",
        "\n",
        "    for u in range(n):\n",
        "      if v != u and graph[v][u] > 0:\n",
        "        inDeg[u] -= 1\n",
        "        if inDeg[u] == 0:\n",
        "          vlist.append(u)"
      ],
      "metadata": {
        "id": "WY4eKXqfAFfV"
      },
      "execution_count": null,
      "outputs": []
    },
    {
      "cell_type": "code",
      "source": [],
      "metadata": {
        "id": "zfcMpl8rB5F9"
      },
      "execution_count": null,
      "outputs": []
    }
  ]
}