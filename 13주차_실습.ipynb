{
  "nbformat": 4,
  "nbformat_minor": 0,
  "metadata": {
    "colab": {
      "provenance": [],
      "authorship_tag": "ABX9TyPESMgESuuB34mFnlMemIrM",
      "include_colab_link": true
    },
    "kernelspec": {
      "name": "python3",
      "display_name": "Python 3"
    },
    "language_info": {
      "name": "python"
    }
  },
  "cells": [
    {
      "cell_type": "markdown",
      "metadata": {
        "id": "view-in-github",
        "colab_type": "text"
      },
      "source": [
        "<a href=\"https://colab.research.google.com/github/H-y-hoon/Python-Programming2/blob/main/13%EC%A3%BC%EC%B0%A8_%EC%8B%A4%EC%8A%B5.ipynb\" target=\"_parent\"><img src=\"https://colab.research.google.com/assets/colab-badge.svg\" alt=\"Open In Colab\"/></a>"
      ]
    },
    {
      "cell_type": "code",
      "source": [
        "#kruskal p405\n",
        "set_size = 0\n",
        "def union(s1,s2):\n",
        "  global set_size\n",
        "  parent[s1] = s2\n",
        "  set_size = set_size - 1\n",
        "\n",
        "def init_set(nSets):\n",
        "  global set_size, parent\n",
        "  set_size = nSets\n",
        "  for i in range(nSets):\n",
        "    parent.append(-1)\n",
        "\n",
        "def fint(id):\n",
        "  while (parent[id] >= 0):\n",
        "    id = parent[id]\n",
        "  return id"
      ],
      "metadata": {
        "id": "kJUDeG6P_7l8"
      },
      "execution_count": null,
      "outputs": []
    },
    {
      "cell_type": "code",
      "execution_count": null,
      "metadata": {
        "colab": {
          "base_uri": "https://localhost:8080/",
          "height": 136
        },
        "id": "8y4m5J6c91ml",
        "outputId": "294f3d57-3f70-4351-9f38-74bc9bf0c855"
      },
      "outputs": [
        {
          "output_type": "error",
          "ename": "SyntaxError",
          "evalue": "ignored",
          "traceback": [
            "\u001b[0;36m  File \u001b[0;32m\"<ipython-input-2-aee08956e9ae>\"\u001b[0;36m, line \u001b[0;32m10\u001b[0m\n\u001b[0;31m    eList.sort(key = Lambda e: e[2], reverse = True)\u001b[0m\n\u001b[0m                            ^\u001b[0m\n\u001b[0;31mSyntaxError\u001b[0m\u001b[0;31m:\u001b[0m invalid syntax\n"
          ]
        }
      ],
      "source": [
        "def MSTKreskal(vertex, adj):\n",
        "  vsize = len(vertex)\n",
        "  init_set(vsize)\n",
        "  eList = []\n",
        "\n",
        "  for i in range(vsize - 1):\n",
        "    for j in range(i+1, vsize):\n",
        "      if adj[i][j] != None:\n",
        "        eList.append((i,j, adj[i][j]))\n",
        "  eList.sort(key = Lambda e: e[2], reverse = True)\n",
        "\n",
        "  edgeAccepted = 0\n",
        "  while(edgeAccepted < vsize - 1):\n",
        "    e = eList.pop(-1)\n",
        "    uset = fint(e[0])\n",
        "    vset = fint(e[1])\n",
        "\n",
        "    if uset != vset:\n",
        "      print(f'간선 추가!, {vertex[e[0]]}, {vertex[e[1]]}, {e[2]}')\n",
        "      union(uset, vset)\n",
        "      edgeAccepted += 1"
      ]
    },
    {
      "cell_type": "code",
      "source": [
        "#다익스트라\n",
        "\n",
        "INF = 9999\n",
        "def choose_vertex(dist, found):\n",
        "  min = INF\n",
        "  minpos = -1\n",
        "  for i in range(len(dist)):\n",
        "    if dist[i] < min and found[i] == False:\n",
        "      min = dist[i]\n",
        "      minpos = i\n",
        "  \n",
        "  return minpos\n",
        "\n",
        "def dijkstra(vtx, adj, start):\n",
        "  vsize = len(vtx)\n",
        "  dist = list(adj[start])\n",
        "  path = [start] * vsize\n",
        "  found = [False] * vsize\n",
        "  found[start] = True\n",
        "  dist[start] = 0\n",
        "  for i in range(vsize):\n",
        "    print(f'Step {%d:i+1}, {dist}')\n",
        "    u = choose_vertex(dist, found)\n",
        "    found[u] = True\n",
        "\n",
        "    for w in range(vsize):\n",
        "      if not found[w]:\n",
        "        if dist[w] + adj[u][w] < dist[w]:\n",
        "          dist[w] = dist[u] + adj[u][w]\n",
        "          path[w] = u\n",
        "\n",
        "      return path"
      ],
      "metadata": {
        "colab": {
          "base_uri": "https://localhost:8080/",
          "height": 136
        },
        "id": "iiDqQX6xBqAc",
        "outputId": "e257895f-df7b-49ba-cf76-af79a3bd19d4"
      },
      "execution_count": null,
      "outputs": [
        {
          "output_type": "error",
          "ename": "SyntaxError",
          "evalue": "ignored",
          "traceback": [
            "\u001b[0;36m  File \u001b[0;32m\"<fstring>\"\u001b[0;36m, line \u001b[0;32m1\u001b[0m\n\u001b[0;31m    (%d)\u001b[0m\n\u001b[0m     ^\u001b[0m\n\u001b[0;31mSyntaxError\u001b[0m\u001b[0;31m:\u001b[0m invalid syntax\n"
          ]
        }
      ]
    },
    {
      "cell_type": "code",
      "source": [],
      "metadata": {
        "id": "j87SvaZpDEy1"
      },
      "execution_count": null,
      "outputs": []
    }
  ]
}