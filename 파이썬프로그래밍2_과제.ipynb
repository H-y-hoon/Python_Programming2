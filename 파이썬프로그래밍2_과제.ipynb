{
  "nbformat": 4,
  "nbformat_minor": 0,
  "metadata": {
    "colab": {
      "provenance": [],
      "authorship_tag": "ABX9TyOPPHojQfLCkAkqQccL044Z",
      "include_colab_link": true
    },
    "kernelspec": {
      "name": "python3",
      "display_name": "Python 3"
    },
    "language_info": {
      "name": "python"
    }
  },
  "cells": [
    {
      "cell_type": "markdown",
      "metadata": {
        "id": "view-in-github",
        "colab_type": "text"
      },
      "source": [
        "<a href=\"https://colab.research.google.com/github/H-y-hoon/Python-Programming2/blob/main/%ED%8C%8C%EC%9D%B4%EC%8D%AC%ED%94%84%EB%A1%9C%EA%B7%B8%EB%9E%98%EB%B0%8D2_%EA%B3%BC%EC%A0%9C.ipynb\" target=\"_parent\"><img src=\"https://colab.research.google.com/assets/colab-badge.svg\" alt=\"Open In Colab\"/></a>"
      ]
    },
    {
      "cell_type": "markdown",
      "source": [
        "# 3주차 과제\n"
      ],
      "metadata": {
        "id": "Yu85cJlRsuKF"
      }
    },
    {
      "cell_type": "code",
      "execution_count": null,
      "metadata": {
        "colab": {
          "base_uri": "https://localhost:8080/"
        },
        "id": "Ag_Wum7CFYEW",
        "outputId": "da88525f-0555-4eb8-8653-06add9ffd559"
      },
      "outputs": [
        {
          "output_type": "stream",
          "name": "stdout",
          "text": [
            "88\n"
          ]
        }
      ],
      "source": [
        "\n",
        "## 두 번째로 큰 수 출력하기\n",
        "\n",
        "a = [2,3,6,88,44,36,89]\n",
        "\n",
        "a.sort(reverse=True) #리스트를 정렬해서 내림차순으로 재정렬한다.\n",
        "print(a[1]) # 1번 인덱스를 출력한다\n",
        "\n"
      ]
    },
    {
      "cell_type": "code",
      "source": [
        "def merge_sort(a):\n",
        "    n = len(a)      # 종료 조건: 정렬할 리스트의 자료 개수가 한 개 이하이면 정렬할 필요 없음\n",
        "    if n <= 1:\n",
        "        return a    # 그룹을 나누어 각각 병합 정렬을 호출하는 과정\n",
        "   \n",
        "    mid = n // 2               # 중간을 기준으로 두 그룹으로 나눔\n",
        "    g1 = merge_sort(a[:mid])   # 재귀 호출로 첫 번째 그룹을 정렬\n",
        "    g2 = merge_sort(a[mid:])   # 재귀 호출로 두 번째 그룹을 정렬\n",
        "   \n",
        "    result = []                         #1.두 그룹을 하나로 병합  -> 2.두 그룹을 합쳐 만들 최종 결과\n",
        "\n",
        "\n",
        "    while g1 and g2:                  # 두 그룹에 모두 자료가 남아 있는 동안 반복\n",
        "        if g1[0] < g2[0]:              # 두 그룹의 맨 앞 자료 값을 비교\n",
        "            result.append(g1.pop(0))  # g1의 값이 더 작으면 그 값을 빼내어 결과로 추가\n",
        "        else:\n",
        "            result.append(g2.pop(0))  # g2의 값이 더 작으면 그 값을 빼내어 결과로 추가\n",
        "   \n",
        "   \n",
        "    while g1:                          # 아직 남아 있는 자료들을 결과에 추가\n",
        "        result.append(g1.pop(0))      # g1과 g2 중 이미 빈 것은 while을 바로 지나감\n",
        "    while g2:\n",
        "        result.append(g2.pop(0))\n",
        "    return result\n",
        "\n",
        "d = [4,66,86,23,6,3,12,976,2445]\n",
        "print(merge_sort(d))"
      ],
      "metadata": {
        "colab": {
          "base_uri": "https://localhost:8080/"
        },
        "id": "mtl3GZHDoOgy",
        "outputId": "2e49a748-e05b-4237-c560-e0d33018b1af"
      },
      "execution_count": null,
      "outputs": [
        {
          "output_type": "stream",
          "name": "stdout",
          "text": [
            "[3, 4, 6, 12, 23, 66, 86, 976, 2445]\n"
          ]
        }
      ]
    },
    {
      "cell_type": "code",
      "source": [],
      "metadata": {
        "id": "nZpXh0WXqRWd"
      },
      "execution_count": null,
      "outputs": []
    }
  ]
}