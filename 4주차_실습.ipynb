{
  "nbformat": 4,
  "nbformat_minor": 0,
  "metadata": {
    "colab": {
      "provenance": [],
      "authorship_tag": "ABX9TyMDeEc0uKYgX/5eQ67KlhgC",
      "include_colab_link": true
    },
    "kernelspec": {
      "name": "python3",
      "display_name": "Python 3"
    },
    "language_info": {
      "name": "python"
    }
  },
  "cells": [
    {
      "cell_type": "markdown",
      "metadata": {
        "id": "view-in-github",
        "colab_type": "text"
      },
      "source": [
        "<a href=\"https://colab.research.google.com/github/H-y-hoon/Python-Programming2/blob/main/4%EC%A3%BC%EC%B0%A8_%EC%8B%A4%EC%8A%B5.ipynb\" target=\"_parent\"><img src=\"https://colab.research.google.com/assets/colab-badge.svg\" alt=\"Open In Colab\"/></a>"
      ]
    },
    {
      "cell_type": "code",
      "execution_count": null,
      "metadata": {
        "colab": {
          "base_uri": "https://localhost:8080/",
          "height": 136
        },
        "id": "SvAA-GPOIHay",
        "outputId": "256c5365-8d94-4ede-fd46-95d9b2c77c7c"
      },
      "outputs": [
        {
          "output_type": "error",
          "ename": "SyntaxError",
          "evalue": "ignored",
          "traceback": [
            "\u001b[0;36m  File \u001b[0;32m\"<ipython-input-1-f805b5aceec1>\"\u001b[0;36m, line \u001b[0;32m16\u001b[0m\n\u001b[0;31m    def pop:\u001b[0m\n\u001b[0m           ^\u001b[0m\n\u001b[0;31mSyntaxError\u001b[0m\u001b[0;31m:\u001b[0m invalid syntax\n"
          ]
        }
      ],
      "source": [
        "class myStack:\n",
        "  def __init__(self):\n",
        "    self.top = []\n",
        "\n",
        "  def isEmpty(self):\n",
        "    return(len(self.top)) == 0\n",
        "\n",
        "  def size(self):\n",
        "    return(len(self.top))\n",
        "  def clear(self):\n",
        "    self.top = []\n",
        "\n",
        "  def push(self, item):\n",
        "    self.top.append(item)\n",
        "\n",
        "  def pop:\n",
        "     if not self.isEmpty():\n",
        "       return self.pop(-1)\n",
        "\n",
        "  def peek:\n",
        "    if not self.isEmpty():\n",
        "      return self.top[-1]"
      ]
    },
    {
      "cell_type": "code",
      "source": [
        "a = myStack()\n",
        "even = myStack()\n",
        "\n",
        "for i in range(10):\n",
        "  if i % 2 == 0:\n",
        "    even.push(i)\n",
        "  else:\n",
        "    odd.push(i)"
      ],
      "metadata": {
        "colab": {
          "base_uri": "https://localhost:8080/",
          "height": 245
        },
        "id": "CnZ9uv11hiC0",
        "outputId": "28cbe566-ecdd-4f76-b1ab-b9821dd5670b"
      },
      "execution_count": null,
      "outputs": [
        {
          "output_type": "error",
          "ename": "NameError",
          "evalue": "ignored",
          "traceback": [
            "\u001b[0;31m---------------------------------------------------------------------------\u001b[0m",
            "\u001b[0;31mNameError\u001b[0m                                 Traceback (most recent call last)",
            "\u001b[0;32m<ipython-input-3-202469cd04cc>\u001b[0m in \u001b[0;36m<module>\u001b[0;34m\u001b[0m\n\u001b[0;32m----> 1\u001b[0;31m \u001b[0modd\u001b[0m \u001b[0;34m=\u001b[0m \u001b[0mmyStack\u001b[0m\u001b[0;34m(\u001b[0m\u001b[0;34m)\u001b[0m\u001b[0;34m\u001b[0m\u001b[0;34m\u001b[0m\u001b[0m\n\u001b[0m\u001b[1;32m      2\u001b[0m \u001b[0meven\u001b[0m \u001b[0;34m=\u001b[0m \u001b[0mmyStack\u001b[0m\u001b[0;34m(\u001b[0m\u001b[0;34m)\u001b[0m\u001b[0;34m\u001b[0m\u001b[0;34m\u001b[0m\u001b[0m\n\u001b[1;32m      3\u001b[0m \u001b[0;34m\u001b[0m\u001b[0m\n\u001b[1;32m      4\u001b[0m \u001b[0;32mfor\u001b[0m \u001b[0mi\u001b[0m \u001b[0;32min\u001b[0m \u001b[0mrange\u001b[0m\u001b[0;34m(\u001b[0m\u001b[0;36m10\u001b[0m\u001b[0;34m)\u001b[0m\u001b[0;34m:\u001b[0m\u001b[0;34m\u001b[0m\u001b[0;34m\u001b[0m\u001b[0m\n\u001b[1;32m      5\u001b[0m   \u001b[0;32mif\u001b[0m \u001b[0mi\u001b[0m \u001b[0;34m%\u001b[0m \u001b[0;36m2\u001b[0m \u001b[0;34m==\u001b[0m \u001b[0;36m0\u001b[0m\u001b[0;34m:\u001b[0m\u001b[0;34m\u001b[0m\u001b[0;34m\u001b[0m\u001b[0m\n",
            "\u001b[0;31mNameError\u001b[0m: name 'myStack' is not defined"
          ]
        }
      ]
    },
    {
      "cell_type": "code",
      "source": [
        "def checkBrackets(statement):\n",
        "  s = myStack()\n",
        "\n",
        "  for ch in statement:\n",
        "    if ch in ('[', '{', '('):\n",
        "      s.push(ch)\n",
        "\n",
        "    elif ch in (']', ''}, ')'):\n",
        "      if s.isEmpty():\n",
        "        return False #닫는 괄호가 나왔는데, 여는 괄호가 없는 경우\n",
        "\n",
        "      else:\n",
        "        left = s.pop()\n",
        "        if (ch == ']' and left != '{') or \\\n",
        "            (ch == ']' and left != '[') or \\\n",
        "            (ch == )"
      ],
      "metadata": {
        "colab": {
          "base_uri": "https://localhost:8080/",
          "height": 136
        },
        "id": "KhYCJsIRh1Wa",
        "outputId": "c2f60e8f-9eb1-4988-d1de-c0eb98bac26c"
      },
      "execution_count": null,
      "outputs": [
        {
          "output_type": "error",
          "ename": "SyntaxError",
          "evalue": "ignored",
          "traceback": [
            "\u001b[0;36m  File \u001b[0;32m\"<ipython-input-4-87fcbdee949d>\"\u001b[0;36m, line \u001b[0;32m8\u001b[0m\n\u001b[0;31m    elif ch in (']', ''}, ')'):\u001b[0m\n\u001b[0m                       ^\u001b[0m\n\u001b[0;31mSyntaxError\u001b[0m\u001b[0;31m:\u001b[0m invalid syntax\n"
          ]
        }
      ]
    },
    {
      "cell_type": "code",
      "source": [
        "##후위 계산\n",
        "ex1 = list('82/3-32+')\n",
        "ex1"
      ],
      "metadata": {
        "colab": {
          "base_uri": "https://localhost:8080/"
        },
        "id": "4ylmyQbBjO5m",
        "outputId": "964904f1-3901-455a-a1cb-2a6117d9a4b0"
      },
      "execution_count": null,
      "outputs": [
        {
          "output_type": "execute_result",
          "data": {
            "text/plain": [
              "['8', '2', '/', '3', '-', '3', '2', '+']"
            ]
          },
          "metadata": {},
          "execution_count": 5
        }
      ]
    },
    {
      "cell_type": "code",
      "source": [
        "def evalPostfix(expr):\n",
        "  s = myStack()\n",
        "  for t in expr:\n",
        "    if t in '+-*/':\n",
        "      v2 = s.pop()\n",
        "      v1 = s.pop()\n",
        "\n",
        "      if t == '+': s.pop(v1 + v2)\n",
        "      elif t == '-': s.push(v1-v2)\n",
        "      elif t == '*': s.push(v1*v2)\n",
        "      elif t == '/': s.push(v1/v2)\n",
        "\n",
        "  else:\n",
        "    s.push(float(t))\n",
        "\n",
        "  return s.pop()"
      ],
      "metadata": {
        "id": "VV8ZUGchjlCf"
      },
      "execution_count": null,
      "outputs": []
    },
    {
      "cell_type": "code",
      "source": [
        "## 중위 -> 후위\n",
        "\n",
        "#5 + 3 * 3\n",
        "#543*+\n",
        "\n",
        "def precedence(op):\n",
        "  if op == '(' or op == ')': return 0\n",
        "  elif op == '+' or op == '-': return 1\n",
        "  elif op == '*' or op == '/': return 2\n",
        "  else: return -1"
      ],
      "metadata": {
        "id": "O88a3CDtkTMl"
      },
      "execution_count": null,
      "outputs": []
    },
    {
      "cell_type": "code",
      "source": [
        "ex1 = list('8/2-3+(3*2)')"
      ],
      "metadata": {
        "id": "aqn5qc5Xk0vL"
      },
      "execution_count": null,
      "outputs": []
    },
    {
      "cell_type": "code",
      "source": [
        "def a(expr):\n",
        "  s = myStack()\n",
        "  output = []\n",
        "\n",
        "  for t in expr:\n",
        "    if t in'(':\n",
        "      s.push('(')\n",
        "    elif t in ')':\n",
        "      while not s.isEmpty():\n",
        "        op = s.pop()\n",
        "        if op == '(':\n",
        "          break\n",
        "        else:\n",
        "         output.append(op)\n",
        "    \n",
        "    elif t in '+-*/':\n",
        "     while not s.isEmpty():\n",
        "       op = s.peek()\n",
        "     if precedence(t) <= precedence(op):\n",
        "         output.append(op)\n",
        "         s.pop()\n",
        "     else:\n",
        "           break\n",
        "\n",
        "\n",
        "    return output"
      ],
      "metadata": {
        "id": "5OMnYpeHk50s"
      },
      "execution_count": null,
      "outputs": []
    },
    {
      "cell_type": "code",
      "source": [
        "##생쥐 미로 찾기\n",
        "\n",
        "maze = [list('111111'),\n",
        "        list('e00001'),\n",
        "        list('101011'),\n",
        "        list('11100x'),\n",
        "        list('111011'),\n",
        "        list('111111')]\n",
        "maze"
      ],
      "metadata": {
        "colab": {
          "base_uri": "https://localhost:8080/"
        },
        "id": "hdCwGpoolTXU",
        "outputId": "2740c974-bdcd-4967-cb11-7e26069965a1"
      },
      "execution_count": null,
      "outputs": [
        {
          "output_type": "execute_result",
          "data": {
            "text/plain": [
              "[['1', '1', '1', '1', '1', '1'],\n",
              " ['e', '0', '0', '0', '0', '1'],\n",
              " ['1', '0', '1', '0', '1', '1'],\n",
              " ['1', '1', '1', '0', '0', 'x'],\n",
              " ['1', '1', '1', '0', '1', '1'],\n",
              " ['1', '1', '1', '1', '1', '1']]"
            ]
          },
          "metadata": {},
          "execution_count": 14
        }
      ]
    },
    {
      "cell_type": "code",
      "source": [
        "MAZE_SIZE = 6  ##변수이름이 대문자 -> 고정값으로 표기하면 편함\n"
      ],
      "metadata": {
        "id": "PXqwhrt4mlQH"
      },
      "execution_count": null,
      "outputs": []
    },
    {
      "cell_type": "code",
      "source": [
        "def isValidpos(x,y):\n",
        "  if x < 0 or y < 0 or x >= MAZE_SIZE or y >= MAZE_SIZE:\n",
        "    return False\n",
        "  else:\n",
        "    return maze[y][x] == '0' or maze[y][x] == 'x'\n",
        "\n",
        "def DFS():\n",
        "  s = myStack()\n",
        "  s.push((0,1))\n",
        "\n",
        "  while not s.isEmpty():\n",
        "    here = s.pop()\n",
        "    print(here, end = '->')\n",
        "\n",
        "    x,y = here\n",
        "    if (map[y],[x] == 'x'):\n",
        "      return True\n",
        "    else:\n",
        "       map[y][x] == '.'\n",
        "       if isValidpos(x, y-1): s.push(x, y-1)\n",
        "       if isValidpos(x, y+1): s.push(x, y+1)\n",
        "       if isValidpos(x-1, y): s.push(x-1, y)\n",
        "       if isValidpos(x+1, y): s.push(x+1, y)\n",
        "    print('현재 스택: ', s)\n",
        "\n",
        "  return False"
      ],
      "metadata": {
        "id": "k_27FVcKm0O3"
      },
      "execution_count": null,
      "outputs": []
    },
    {
      "cell_type": "code",
      "source": [
        "res = DFS()"
      ],
      "metadata": {
        "id": "19SbAc6hoKey",
        "outputId": "a8ce0833-fafe-4361-d976-931f61631029",
        "colab": {
          "base_uri": "https://localhost:8080/",
          "height": 299
        }
      },
      "execution_count": null,
      "outputs": [
        {
          "output_type": "error",
          "ename": "NameError",
          "evalue": "ignored",
          "traceback": [
            "\u001b[0;31m---------------------------------------------------------------------------\u001b[0m",
            "\u001b[0;31mNameError\u001b[0m                                 Traceback (most recent call last)",
            "\u001b[0;32m<ipython-input-17-a8de230e086a>\u001b[0m in \u001b[0;36m<module>\u001b[0;34m\u001b[0m\n\u001b[0;32m----> 1\u001b[0;31m \u001b[0mres\u001b[0m \u001b[0;34m=\u001b[0m \u001b[0mDFS\u001b[0m\u001b[0;34m(\u001b[0m\u001b[0;34m)\u001b[0m\u001b[0;34m\u001b[0m\u001b[0;34m\u001b[0m\u001b[0m\n\u001b[0m",
            "\u001b[0;32m<ipython-input-16-8e7546a0b98c>\u001b[0m in \u001b[0;36mDFS\u001b[0;34m()\u001b[0m\n\u001b[1;32m      6\u001b[0m \u001b[0;34m\u001b[0m\u001b[0m\n\u001b[1;32m      7\u001b[0m \u001b[0;32mdef\u001b[0m \u001b[0mDFS\u001b[0m\u001b[0;34m(\u001b[0m\u001b[0;34m)\u001b[0m\u001b[0;34m:\u001b[0m\u001b[0;34m\u001b[0m\u001b[0;34m\u001b[0m\u001b[0m\n\u001b[0;32m----> 8\u001b[0;31m   \u001b[0ms\u001b[0m \u001b[0;34m=\u001b[0m \u001b[0mmyStack\u001b[0m\u001b[0;34m(\u001b[0m\u001b[0;34m)\u001b[0m\u001b[0;34m\u001b[0m\u001b[0;34m\u001b[0m\u001b[0m\n\u001b[0m\u001b[1;32m      9\u001b[0m   \u001b[0ms\u001b[0m\u001b[0;34m.\u001b[0m\u001b[0mpush\u001b[0m\u001b[0;34m(\u001b[0m\u001b[0;34m(\u001b[0m\u001b[0;36m0\u001b[0m\u001b[0;34m,\u001b[0m\u001b[0;36m1\u001b[0m\u001b[0;34m)\u001b[0m\u001b[0;34m)\u001b[0m\u001b[0;34m\u001b[0m\u001b[0;34m\u001b[0m\u001b[0m\n\u001b[1;32m     10\u001b[0m \u001b[0;34m\u001b[0m\u001b[0m\n",
            "\u001b[0;31mNameError\u001b[0m: name 'myStack' is not defined"
          ]
        }
      ]
    },
    {
      "cell_type": "code",
      "source": [],
      "metadata": {
        "id": "T6bKEcI1oMBF"
      },
      "execution_count": null,
      "outputs": []
    }
  ]
}