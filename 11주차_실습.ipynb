{
  "nbformat": 4,
  "nbformat_minor": 0,
  "metadata": {
    "colab": {
      "provenance": [],
      "authorship_tag": "ABX9TyMo3j198HpE4iCkpc1u7l4T",
      "include_colab_link": true
    },
    "kernelspec": {
      "name": "python3",
      "display_name": "Python 3"
    },
    "language_info": {
      "name": "python"
    }
  },
  "cells": [
    {
      "cell_type": "markdown",
      "metadata": {
        "id": "view-in-github",
        "colab_type": "text"
      },
      "source": [
        "<a href=\"https://colab.research.google.com/github/H-y-hoon/Python-Programming2/blob/main/11%EC%A3%BC%EC%B0%A8_%EC%8B%A4%EC%8A%B5.ipynb\" target=\"_parent\"><img src=\"https://colab.research.google.com/assets/colab-badge.svg\" alt=\"Open In Colab\"/></a>"
      ]
    },
    {
      "cell_type": "code",
      "execution_count": null,
      "metadata": {
        "id": "pTCn-Uaj8J6K"
      },
      "outputs": [],
      "source": [
        "class BSTNode:\n",
        "  def __init__(self, key, value):\n",
        "    self.key = key\n",
        "    self.value = value\n",
        "    self.left = None\n",
        "    self,right = None"
      ]
    },
    {
      "cell_type": "code",
      "source": [
        "def search_bst(n,key):\n",
        "  if n == None:\n",
        "    return None\n",
        "  elif key == n.key:\n",
        "    return n\n",
        "  elif key < n.key:\n",
        "    return search_bst(n.left, key)\n",
        "  else:\n",
        "    return search_bst"
      ],
      "metadata": {
        "id": "8uCY_rbC8cqd"
      },
      "execution_count": null,
      "outputs": []
    }
  ]
}