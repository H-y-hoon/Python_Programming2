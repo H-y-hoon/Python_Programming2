{
  "nbformat": 4,
  "nbformat_minor": 0,
  "metadata": {
    "colab": {
      "provenance": [],
      "authorship_tag": "ABX9TyPyjDvUoJ1czBgfX/SkOKBF",
      "include_colab_link": true
    },
    "kernelspec": {
      "name": "python3",
      "display_name": "Python 3"
    },
    "language_info": {
      "name": "python"
    }
  },
  "cells": [
    {
      "cell_type": "markdown",
      "metadata": {
        "id": "view-in-github",
        "colab_type": "text"
      },
      "source": [
        "<a href=\"https://colab.research.google.com/github/H-y-hoon/Python-Programming2/blob/main/3%EC%A3%BC%EC%B0%A8_%EC%8B%A4%EC%8A%B5.ipynb\" target=\"_parent\"><img src=\"https://colab.research.google.com/assets/colab-badge.svg\" alt=\"Open In Colab\"/></a>"
      ]
    },
    {
      "cell_type": "code",
      "execution_count": null,
      "metadata": {
        "colab": {
          "base_uri": "https://localhost:8080/"
        },
        "id": "J75nqbj-cGCA",
        "outputId": "003bc735-fe86-46df-d981-5abadc4db8d4"
      },
      "outputs": [
        {
          "output_type": "stream",
          "name": "stdout",
          "text": [
            "Mounted at /content/drive\n"
          ]
        }
      ],
      "source": [
        "#구글 드라이브와 mount(연결)\n",
        "from google.colab import drive\n",
        "drive.mount('/content/drive')"
      ]
    },
    {
      "cell_type": "code",
      "source": [
        "print(\"Andersson Bell\")"
      ],
      "metadata": {
        "colab": {
          "base_uri": "https://localhost:8080/"
        },
        "id": "m3-khvhtcKu-",
        "outputId": "17bbedcf-2e27-469f-bbae-f6b594045c37"
      },
      "execution_count": null,
      "outputs": [
        {
          "output_type": "stream",
          "name": "stdout",
          "text": [
            "Andersson Bell\n"
          ]
        }
      ]
    },
    {
      "cell_type": "code",
      "source": [
        "a = [1,2,3,'a']"
      ],
      "metadata": {
        "id": "XKle5_T4dDAI"
      },
      "execution_count": null,
      "outputs": []
    },
    {
      "cell_type": "code",
      "source": [
        "a"
      ],
      "metadata": {
        "colab": {
          "base_uri": "https://localhost:8080/"
        },
        "id": "qEjUGSsXdVBu",
        "outputId": "97007f97-9093-483f-a416-591f777a97a9"
      },
      "execution_count": null,
      "outputs": [
        {
          "output_type": "execute_result",
          "data": {
            "text/plain": [
              "[1, 2, 3, 'a']"
            ]
          },
          "metadata": {},
          "execution_count": 5
        }
      ]
    },
    {
      "cell_type": "code",
      "source": [
        "#파이썬의 여러 자료구조 함수들\n",
        "items = []\n",
        "def insert(pos, elem):\n",
        "  items.insert(pos, elem)\n",
        "\n",
        "def delete(pos):\n",
        "  return items.pop(pos) ##pop은 delete와 return을 같이함\n",
        "\n",
        "def getEntry(pos):\n",
        "  return items[pos]\n",
        "\n",
        "def isEmpty():\n",
        "  if len(items) == 0:\n",
        "    return True\n",
        "  else:\n",
        "    return False\n",
        "\n",
        "    #return len(items) == 0 과 동일\n",
        "\n",
        "def size():\n",
        "  return len(items)\n",
        "\n",
        "def clear():\n",
        "  items = []\n",
        "\n",
        "def find(item):\n",
        "  items.index(item)\n",
        "  \n",
        "def replace(pos, elem):\n",
        "  items[pos] = elem\n",
        "\n",
        "def sort():\n",
        "  items.sort()\n",
        "\n",
        "def merge(lst):\n",
        "  items.extend(lst)"
      ],
      "metadata": {
        "id": "wLsNfG1tdWyF"
      },
      "execution_count": null,
      "outputs": []
    },
    {
      "cell_type": "code",
      "source": [
        "items"
      ],
      "metadata": {
        "colab": {
          "base_uri": "https://localhost:8080/"
        },
        "id": "jPqiszQDeg9I",
        "outputId": "26b6a37e-4780-4da8-bbf0-c49191d17a39"
      },
      "execution_count": null,
      "outputs": [
        {
          "output_type": "execute_result",
          "data": {
            "text/plain": [
              "[]"
            ]
          },
          "metadata": {},
          "execution_count": 9
        }
      ]
    },
    {
      "cell_type": "code",
      "source": [
        "items.insert(0,10)"
      ],
      "metadata": {
        "id": "Ce4nQ0Uuei-d"
      },
      "execution_count": null,
      "outputs": []
    },
    {
      "cell_type": "code",
      "source": [
        "items"
      ],
      "metadata": {
        "colab": {
          "base_uri": "https://localhost:8080/"
        },
        "id": "28zvRpkufmUF",
        "outputId": "a448f80d-21b7-449e-a191-1cc6a7c53936"
      },
      "execution_count": null,
      "outputs": [
        {
          "output_type": "execute_result",
          "data": {
            "text/plain": [
              "[10]"
            ]
          },
          "metadata": {},
          "execution_count": 11
        }
      ]
    },
    {
      "cell_type": "code",
      "source": [
        "items.insert(0,20)"
      ],
      "metadata": {
        "id": "ts5pTasffnQK"
      },
      "execution_count": null,
      "outputs": []
    },
    {
      "cell_type": "code",
      "source": [
        "items #10이 한칸 밀림"
      ],
      "metadata": {
        "colab": {
          "base_uri": "https://localhost:8080/"
        },
        "id": "WhbQgng-fps5",
        "outputId": "b193c6b7-21d2-476e-a908-c3ded25e3f03"
      },
      "execution_count": null,
      "outputs": [
        {
          "output_type": "execute_result",
          "data": {
            "text/plain": [
              "[20, 10]"
            ]
          },
          "metadata": {},
          "execution_count": 13
        }
      ]
    },
    {
      "cell_type": "code",
      "source": [
        "items.insert(1,30) #1번자리에 30 추가\n",
        "items  "
      ],
      "metadata": {
        "colab": {
          "base_uri": "https://localhost:8080/"
        },
        "id": "oNmkdNEWfqoD",
        "outputId": "bec8118b-e71d-4d4d-9b14-53603e143380"
      },
      "execution_count": null,
      "outputs": [
        {
          "output_type": "execute_result",
          "data": {
            "text/plain": [
              "[20, 30, 10]"
            ]
          },
          "metadata": {},
          "execution_count": 14
        }
      ]
    },
    {
      "cell_type": "code",
      "source": [
        "sort() #정렬\n",
        "items"
      ],
      "metadata": {
        "colab": {
          "base_uri": "https://localhost:8080/"
        },
        "id": "ohg7dW2DfwYx",
        "outputId": "bb472c42-3826-43dc-f9a4-36ed9ca66d8f"
      },
      "execution_count": null,
      "outputs": [
        {
          "output_type": "execute_result",
          "data": {
            "text/plain": [
              "[10, 20, 30]"
            ]
          },
          "metadata": {},
          "execution_count": 15
        }
      ]
    },
    {
      "cell_type": "code",
      "source": [
        "replace(1, 50)  #1번 인덱스를 바꿈\n",
        "items"
      ],
      "metadata": {
        "colab": {
          "base_uri": "https://localhost:8080/"
        },
        "id": "fNnLjIsAf03Y",
        "outputId": "7dfacb6a-22d7-4af4-fc0c-7cd1a156e710"
      },
      "execution_count": null,
      "outputs": [
        {
          "output_type": "execute_result",
          "data": {
            "text/plain": [
              "[10, 50, 30]"
            ]
          },
          "metadata": {},
          "execution_count": 16
        }
      ]
    },
    {
      "cell_type": "code",
      "source": [
        "\"\"\"\n",
        "class ArrayList:\n",
        "  def __init__(self):\n",
        "    self.items = []\n",
        "  \n",
        "  def insert(self, pos, elem):\n",
        "    items.insert(pos, elem)\n",
        "\n",
        "  def delete(self, pos):\n",
        "    return self.items.pop(pos) ##pop은 delete와 return을 같이함\n",
        "\n",
        "  def getEntry(self, pos):\n",
        "    return self.items[pos]\n",
        "\n",
        "  def isEmpty(self):\n",
        "    if len(self.items) == 0:\n",
        "      return True\n",
        "    else:\n",
        "      return False\n",
        "\n",
        "    #return len(items) == 0 과 동일\n",
        "\n",
        "  def size(self):\n",
        "    return len(self.items)\n",
        "\n",
        "  def clear(self):\n",
        "    items = []\n",
        "\n",
        "  def find(self.item):\n",
        "    items.index(self.item)\n",
        "  \n",
        "  def replace(self pos, elem):\n",
        "    items[self,pos] = elem\n",
        "\n",
        "  def sort():\n",
        "    items.sort()\n",
        "\n",
        "  def merge(lst):\n",
        "    items.extend(lst)\n",
        "    \"\"\""
      ],
      "metadata": {
        "id": "rjeBYhUPf4_y"
      },
      "execution_count": null,
      "outputs": []
    },
    {
      "cell_type": "code",
      "source": [
        "\"\"\"\n",
        "a = ArrayList()\n",
        "\n",
        "a.insert(0,10)\n",
        "a.insert(0,20)\n",
        "a.insert(1,30)\n",
        "a.items\n",
        "\"\"\""
      ],
      "metadata": {
        "colab": {
          "base_uri": "https://localhost:8080/",
          "height": 245
        },
        "id": "yC7ZcMLdg2Sf",
        "outputId": "5257ac6a-5aa5-44e6-e315-6129307a4d18"
      },
      "execution_count": null,
      "outputs": [
        {
          "output_type": "error",
          "ename": "NameError",
          "evalue": "ignored",
          "traceback": [
            "\u001b[0;31m---------------------------------------------------------------------------\u001b[0m",
            "\u001b[0;31mNameError\u001b[0m                                 Traceback (most recent call last)",
            "\u001b[0;32m<ipython-input-18-ac74072f7376>\u001b[0m in \u001b[0;36m<module>\u001b[0;34m\u001b[0m\n\u001b[0;32m----> 1\u001b[0;31m \u001b[0ma\u001b[0m \u001b[0;34m=\u001b[0m \u001b[0mArrayList\u001b[0m\u001b[0;34m(\u001b[0m\u001b[0;34m)\u001b[0m\u001b[0;34m\u001b[0m\u001b[0;34m\u001b[0m\u001b[0m\n\u001b[0m\u001b[1;32m      2\u001b[0m \u001b[0;34m\u001b[0m\u001b[0m\n\u001b[1;32m      3\u001b[0m \u001b[0ma\u001b[0m\u001b[0;34m.\u001b[0m\u001b[0minsert\u001b[0m\u001b[0;34m(\u001b[0m\u001b[0;36m0\u001b[0m\u001b[0;34m,\u001b[0m\u001b[0;36m10\u001b[0m\u001b[0;34m)\u001b[0m\u001b[0;34m\u001b[0m\u001b[0;34m\u001b[0m\u001b[0m\n\u001b[1;32m      4\u001b[0m \u001b[0ma\u001b[0m\u001b[0;34m.\u001b[0m\u001b[0minsert\u001b[0m\u001b[0;34m(\u001b[0m\u001b[0;36m0\u001b[0m\u001b[0;34m,\u001b[0m\u001b[0;36m20\u001b[0m\u001b[0;34m)\u001b[0m\u001b[0;34m\u001b[0m\u001b[0;34m\u001b[0m\u001b[0m\n\u001b[1;32m      5\u001b[0m \u001b[0ma\u001b[0m\u001b[0;34m.\u001b[0m\u001b[0minsert\u001b[0m\u001b[0;34m(\u001b[0m\u001b[0;36m1\u001b[0m\u001b[0;34m,\u001b[0m\u001b[0;36m30\u001b[0m\u001b[0;34m)\u001b[0m\u001b[0;34m\u001b[0m\u001b[0;34m\u001b[0m\u001b[0m\n",
            "\u001b[0;31mNameError\u001b[0m: name 'ArrayList' is not defined"
          ]
        }
      ]
    },
    {
      "cell_type": "code",
      "source": [
        "class MySet:\n",
        "  def __init__(self):\n",
        "    self.items = []\n",
        "\n",
        "  def size(self):\n",
        "    return len(self.items)\n",
        "\n",
        "  def contains(self, item):\n",
        "    return item in items\n",
        "\n",
        "  def insert(self, item):\n",
        "    if item not in self.items:\n",
        "      self,item.append(items)\n",
        "\n",
        "  def delete(self, elem):\n",
        "    if elem in self.items:\n",
        "      self.items.remove(elem) ##존재하는 경우 실행시 에러 발생\n",
        "\n",
        "  def union(self, setB):\n",
        "    setC = MySet()\n",
        "    setC.items = list(self.items)\n",
        "\n",
        "    for e in setB.items:\n",
        "      if e not in self.items:\n",
        "        setC.items.append(elem)\n",
        "\n",
        "    return setC\n",
        "\n",
        "  def intersect(self, setB):    #겹치는 것만 찾자\n",
        "    setC = MySet()\n",
        "    for elem in setB.items:\n",
        "      if elem in self.items:\n",
        "        setC.items.append(elem)\n",
        "    return setC\n",
        "   \n",
        "  def different(self, setB):  \n",
        "    setC = MySet()\n",
        "    for elem in self.items:  #나한테서 B를 빼줘야하기떄문에 self로 바꿈\n",
        "      if elem not in setB.items:\n",
        "        setC.items.append(elem)\n",
        "    return setC"
      ],
      "metadata": {
        "id": "eiIXn6Jvg-Zn"
      },
      "execution_count": null,
      "outputs": []
    },
    {
      "cell_type": "code",
      "source": [],
      "metadata": {
        "id": "IUplgUjXhr7g"
      },
      "execution_count": null,
      "outputs": []
    }
  ]
}